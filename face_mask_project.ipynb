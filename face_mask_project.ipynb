{
 "cells": [
  {
   "cell_type": "markdown",
   "id": "973ba756",
   "metadata": {},
   "source": [
    "# Face mask detection with tensorflow"
   ]
  },
  {
   "cell_type": "markdown",
   "id": "812d41ba",
   "metadata": {},
   "source": [
    "<img src=\"https://github.com/Mukhriddin19980901/Mask_detection/blob/main/pics/maskgif.gif?raw=true\" width='400' height='400' />"
   ]
  },
  {
   "cell_type": "markdown",
   "id": "7621095c",
   "metadata": {},
   "source": [
    "## PLAN\n",
    "\n",
    "- Import data\n",
    "\n",
    "- Data preprocessing\n",
    "\n",
    "- Model building\n",
    "\n",
    "- Training \n",
    "\n",
    "- Testing"
   ]
  },
  {
   "cell_type": "markdown",
   "id": "f6cec9fc",
   "metadata": {},
   "source": [
    "**Import data**"
   ]
  },
  {
   "cell_type": "code",
   "execution_count": 10,
   "id": "8a27b5fd",
   "metadata": {},
   "outputs": [
    {
     "data": {
      "text/plain": [
       "[PhysicalDevice(name='/physical_device:CPU:0', device_type='CPU'),\n",
       " PhysicalDevice(name='/physical_device:GPU:0', device_type='GPU')]"
      ]
     },
     "execution_count": 10,
     "metadata": {},
     "output_type": "execute_result"
    }
   ],
   "source": [
    "import tensorflow as tf\n",
    "from tensorflow import keras\n",
    "import numpy as np\n",
    "import cv2\n",
    "import seaborn as sns\n",
    "import matplotlib.pyplot as plt\n",
    "import cvlib as cv\n",
    "import glob\n",
    "import os\n",
    "tf.config.list_physical_devices()"
   ]
  },
  {
   "cell_type": "code",
   "execution_count": 6,
   "id": "730b24e4",
   "metadata": {},
   "outputs": [],
   "source": [
    "def dataset(path):\n",
    "    t=0\n",
    "    x_train = []\n",
    "    y_train = []\n",
    "    for  i in range(3):\n",
    "        labels = ['incorrect_mask','with_mask','without_mask']\n",
    "        path_new = path + labels[i] + '/*'\n",
    "        for image in glob.glob(path_new):\n",
    "            image = cv2.imread(image)\n",
    "            t+=1\n",
    "            image = cv2.resize(image,(128,128))\n",
    "            x_train.append(image)\n",
    "            if i==0:\n",
    "                y_train.append([1,0,0])\n",
    "            elif i==1:\n",
    "                y_train.append([0,1,0])\n",
    "            else:\n",
    "                y_train.append([0,0,1])\n",
    "    return x_train,y_train\n",
    "train_dir = r'datasets/maska/train/'\n",
    "test_dir = r'datasets/maska/test/'"
   ]
  },
  {
   "cell_type": "markdown",
   "id": "d278dda8",
   "metadata": {},
   "source": [
    "**Data preprocessing**"
   ]
  },
  {
   "cell_type": "code",
   "execution_count": 7,
   "id": "2419415e",
   "metadata": {},
   "outputs": [
    {
     "name": "stdout",
     "output_type": "stream",
     "text": [
      "(9512, 128, 128, 3) (9512, 3)\n",
      "(669, 128, 128, 3)\n"
     ]
    }
   ],
   "source": [
    "x_train = []\n",
    "y_train = []\n",
    "x_train,y_train= dataset(train_dir)\n",
    "x_train = np.array(x_train)\n",
    "y_train = np.array(y_train)\n",
    "print(x_train.shape, y_train.shape)\n",
    "x_test = []\n",
    "y_test = []\n",
    "x_test,y_test= dataset(test_dir)\n",
    "x_test = np.array(x_test)\n",
    "y_test = np.array(y_test)\n",
    "print(x_test.shape)"
   ]
  },
  {
   "cell_type": "code",
   "execution_count": 17,
   "id": "73a17fb6",
   "metadata": {},
   "outputs": [
    {
     "data": {
      "text/plain": [
       "array([1, 0, 0])"
      ]
     },
     "execution_count": 17,
     "metadata": {},
     "output_type": "execute_result"
    }
   ],
   "source": [
    "y_train[0]"
   ]
  },
  {
   "cell_type": "code",
   "execution_count": 41,
   "id": "e49dec50",
   "metadata": {},
   "outputs": [],
   "source": [
    "labels = []\n",
    "for y in y_train:\n",
    "  # the labels are one-hot encoded\n",
    "  labels.append(np.argmax(y))\n",
    "count = [labels.count([0]),labels.count([1]),labels.count([2])]\n",
    "classes = ['incorrect_mask','with_mask','without_mask']"
   ]
  },
  {
   "cell_type": "code",
   "execution_count": 45,
   "id": "25340aba",
   "metadata": {},
   "outputs": [
    {
     "data": {
      "image/png": "[encoded data removed]",
      "text/plain": [
       "<Figure size 864x576 with 1 Axes>"
      ]
     },
     "metadata": {
      "needs_background": "light"
     },
     "output_type": "display_data"
    }
   ],
   "source": [
    "count\n",
    "plt.figure(figsize=(12,8))\n",
    "plt.bar(classes,count, color='green')\n",
    "plt.title(f'Number of Elements in Each Class \\n {count[0]}        {count[1]}        {count[2]}')\n",
    "plt.show()"
   ]
  },
  {
   "cell_type": "markdown",
   "id": "6f9eddd3",
   "metadata": {},
   "source": [
    "**Model training** "
   ]
  },
  {
   "cell_type": "code",
   "execution_count": 3,
   "id": "89c42f94",
   "metadata": {},
   "outputs": [
    {
     "name": "stdout",
     "output_type": "stream",
     "text": [
      "Epoch 1/10\n",
      "298/298 [==============================] - 12s 10ms/step - loss: 0.4465 - accuracy: 0.83722s - loss: 0.5869 - ac - ETA: 1s - loss: 0.5444 - accura - ETA: 1s - loss: 0.5163 -  - ETA: 0s\n",
      "Epoch 2/10\n",
      "298/298 [==============================] - 3s 11ms/step - loss: 0.2451 - accuracy: 0.9130\n",
      "Epoch 3/10\n",
      "298/298 [==============================] - 3s 10ms/step - loss: 0.1648 - accuracy: 0.9406A: 0s -\n",
      "Epoch 4/10\n",
      "298/298 [==============================] - 3s 10ms/step - loss: 0.1101 - accuracy: 0.9622 0s - loss: 0.1132 - accura\n",
      "Epoch 5/10\n",
      "298/298 [==============================] - 3s 10ms/step - loss: 0.0795 - accuracy: 0.9717\n",
      "Epoch 6/10\n",
      "298/298 [==============================] - 3s 10ms/step - loss: 0.0652 - accuracy: 0.9772\n",
      "Epoch 7/10\n",
      "298/298 [==============================] - 3s 10ms/step - loss: 0.0685 - accuracy: 0.9763 2s - loss: 0 - ETA: 1s - loss: 0.0583 -  - ETA: 0s - loss: 0.0644 - accura - ETA: 0s - loss: 0.0646 - accu - ETA: 0s - loss: 0.0682 - accuracy: 0.97\n",
      "Epoch 8/10\n",
      "298/298 [==============================] - 3s 10ms/step - loss: 0.0563 - accuracy: 0.9796 0s - loss: 0.052 - ETA: 0s - loss: 0.0571 - ac\n",
      "Epoch 9/10\n",
      "298/298 [==============================] - 3s 10ms/step - loss: 0.0490 - accuracy: 0.9832 0s - loss: 0.0503 - accura\n",
      "Epoch 10/10\n",
      "298/298 [==============================] - 3s 10ms/step - loss: 0.0376 - accuracy: 0.9882 2s - loss: 0.0300 - accuracy - ETA: 2s - los - ETA: 1s - - ETA: 0s - loss: 0.0390 -  - ETA: 0s - loss: 0.0377 - accuracy: 0.98 - ETA: 0s - loss: 0.0377 - ac\n",
      "21/21 [==============================] - 0s 9ms/step - loss: 0.4799 - accuracy: 0.9058\n",
      "Model: \"sequential\"\n",
      "_________________________________________________________________\n",
      " Layer (type)                Output Shape              Param #   \n",
      "=================================================================\n",
      " conv2d (Conv2D)             (None, 126, 126, 32)      896       \n",
      "                                                                 \n",
      " max_pooling2d (MaxPooling2D  (None, 42, 42, 32)       0         \n",
      " )                                                               \n",
      "                                                                 \n",
      " batch_normalization (BatchN  (None, 42, 42, 32)       128       \n",
      " ormalization)                                                   \n",
      "                                                                 \n",
      " conv2d_1 (Conv2D)           (None, 40, 40, 64)        18496     \n",
      "                                                                 \n",
      " max_pooling2d_1 (MaxPooling  (None, 20, 20, 64)       0         \n",
      " 2D)                                                             \n",
      "                                                                 \n",
      " batch_normalization_1 (Batc  (None, 20, 20, 64)       256       \n",
      " hNormalization)                                                 \n",
      "                                                                 \n",
      " conv2d_2 (Conv2D)           (None, 18, 18, 128)       73856     \n",
      "                                                                 \n",
      " max_pooling2d_2 (MaxPooling  (None, 9, 9, 128)        0         \n",
      " 2D)                                                             \n",
      "                                                                 \n",
      " batch_normalization_2 (Batc  (None, 9, 9, 128)        512       \n",
      " hNormalization)                                                 \n",
      "                                                                 \n",
      " flatten (Flatten)           (None, 10368)             0         \n",
      "                                                                 \n",
      " dense (Dense)               (None, 128)               1327232   \n",
      "                                                                 \n",
      " dense_1 (Dense)             (None, 64)                8256      \n",
      "                                                                 \n",
      " dense_2 (Dense)             (None, 32)                2080      \n",
      "                                                                 \n",
      " dense_3 (Dense)             (None, 3)                 99        \n",
      "                                                                 \n",
      "=================================================================\n",
      "Total params: 1,431,811\n",
      "Trainable params: 1,431,363\n",
      "Non-trainable params: 448\n",
      "_________________________________________________________________\n"
     ]
    }
   ],
   "source": [
    "model = keras.Sequential([\n",
    "    keras.layers.Conv2D(32,(3,3) ,activation='relu' ,input_shape=(128,128,3)),\n",
    "    keras.layers.MaxPooling2D((3,3)),\n",
    "    keras.layers.BatchNormalization(),\n",
    "    keras.layers.Conv2D(64,(3,3),activation = 'relu'),\n",
    "    keras.layers.MaxPooling2D((2,2)),\n",
    "    keras.layers.BatchNormalization(),\n",
    "    keras.layers.Conv2D(128,(3,3),activation = 'relu'),\n",
    "    keras.layers.MaxPooling2D((2,2)),\n",
    "    keras.layers.BatchNormalization(),\n",
    "    keras.layers.Flatten(),\n",
    "    keras.layers.Dense(128,activation = 'relu'),\n",
    "    keras.layers.Dense(64,activation = 'relu'),\n",
    "    keras.layers.Dense(32,activation = 'relu'),\n",
    "    \n",
    "    keras.layers.Dense(3,activation = 'softmax'),\n",
    "])\n",
    "optim = keras.optimizers.Adam(learning_rate = 0.001)\n",
    "model.compile(optimizer=optim,loss='categorical_crossentropy',metrics=['accuracy'])\n",
    "with tf.device(\"/GPU:0\"):\n",
    "    model2=model\n",
    "    model2.fit(x_train,y_train,epochs=10)\n",
    "    model2.evaluate(x_test,y_test)\n",
    "    model2.summary()"
   ]
  },
  {
   "cell_type": "code",
   "execution_count": 26,
   "id": "d66fd9e1",
   "metadata": {},
   "outputs": [],
   "source": [
    "model2.save('maska_detection.model',save_format='h5')"
   ]
  },
  {
   "cell_type": "markdown",
   "id": "fcf54150",
   "metadata": {},
   "source": [
    "**Test**"
   ]
  },
  {
   "cell_type": "code",
   "execution_count": 4,
   "id": "6bf0eb4f",
   "metadata": {},
   "outputs": [],
   "source": [
    "model2 = keras.models.load_model('maska_detection.model')"
   ]
  },
  {
   "cell_type": "code",
   "execution_count": 3,
   "id": "02faebb0",
   "metadata": {},
   "outputs": [],
   "source": [
    "faces = ['wrong_mask','mask','no_mask']\n",
    "\n",
    "while video.isOpened():\n",
    "    _,image = video.read()\n",
    "    face = cv.detect_face(image)\n",
    "    for (x,y,w,h) in face:\n",
    "        yuz_np = np.copy(image[y:h,x:w])\n",
    "        if yuz_np.shape[0]<10 or yuz_np.shape[1]<10:\n",
    "            continue\n",
    "        yuz_np = cv2.resize(yuz_np,(128,128))\n",
    "        yuz_np = np.expand_dims(yuz_np,0)\n",
    "        bashorat = model2.predict(yuz_np)\n",
    "        index=np.argmax([bashorat])\n",
    "        face = faces[index]\n",
    "    \n",
    "        if face=='mask':\n",
    "            color = (0,255,0)\n",
    "        elif face== \"wrong_mask\" : \n",
    "            color = (255,130,0)\n",
    "        else:\n",
    "            color = (0,0,255)\n",
    "        if index:\n",
    "            face = f'{face} :  {np.around((1-bashorat[0][0])*100,2)} %'\n",
    "        else:\n",
    "            face = f'{face} : {np.around((bashorat[0][0]*100),2)} %'\n",
    "        if y-10>10:\n",
    "            Y=y-10\n",
    "        else:\n",
    "            Y=y+10        \n",
    "        cv2.rectangle(image,(x,y),(w,h),color,2)\n",
    "        cv2.putText(image,face,(x,Y),cv2.FONT_HERSHEY_COMPLEX,0.7,color,2)\n",
    "            \n",
    "    cv2.imshow(\"mask_detection\",image)\n",
    "    if cv2.waitKey(1) & 0xFF == ord(\"q\"):\n",
    "        break\n",
    "video.release()\n",
    "cv2.destroyAllWindows()\""
   ]
  },
  {
   "cell_type": "markdown",
   "id": "da0dd839",
   "metadata": {},
   "source": [
    "<img src=\"https://github.com/Mukhriddin19980901/Mask_detection/blob/main/pics/mask.png?raw=true\" width='400' height='400' /><img src=\"https://github.com/Mukhriddin19980901/Mask_detection/blob/main/pics/wrong_mask.png?raw=true\" width='400' height='400' />\n"
   ]
  }
 ],
 "metadata": {
  "kernelspec": {
   "display_name": "Python 3 (ipykernel)",
   "language": "python",
   "name": "python3"
  },
  "language_info": {
   "codemirror_mode": {
    "name": "ipython",
    "version": 3
   },
   "file_extension": ".py",
   "mimetype": "text/x-python",
   "name": "python",
   "nbconvert_exporter": "python",
   "pygments_lexer": "ipython3",
   "version": "3.9.5"
  }
 },
 "nbformat": 4,
 "nbformat_minor": 5
}
